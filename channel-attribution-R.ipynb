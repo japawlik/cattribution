{
 "cells": [
  {
   "cell_type": "code",
   "execution_count": 1,
   "metadata": {},
   "outputs": [
    {
     "name": "stderr",
     "output_type": "stream",
     "text": [
      "Installing package into ‘/srv/rlibs’\n",
      "(as ‘lib’ is unspecified)\n",
      "also installing the dependency ‘RcppArmadillo’\n",
      "\n"
     ]
    }
   ],
   "source": [
    "install.packages('ChannelAttribution')"
   ]
  },
  {
   "cell_type": "code",
   "execution_count": 2,
   "metadata": {},
   "outputs": [
    {
     "name": "stderr",
     "output_type": "stream",
     "text": [
      "Installing package into ‘/srv/rlibs’\n",
      "(as ‘lib’ is unspecified)\n"
     ]
    }
   ],
   "source": [
    "install.packages('dplyr')"
   ]
  },
  {
   "cell_type": "code",
   "execution_count": 3,
   "metadata": {},
   "outputs": [
    {
     "name": "stderr",
     "output_type": "stream",
     "text": [
      "Installing package into ‘/srv/rlibs’\n",
      "(as ‘lib’ is unspecified)\n"
     ]
    }
   ],
   "source": [
    "install.packages('ggplot2')"
   ]
  },
  {
   "cell_type": "code",
   "execution_count": 4,
   "metadata": {},
   "outputs": [
    {
     "name": "stderr",
     "output_type": "stream",
     "text": [
      "\n",
      "Attaching package: ‘dplyr’\n",
      "\n",
      "The following objects are masked from ‘package:stats’:\n",
      "\n",
      "    filter, lag\n",
      "\n",
      "The following objects are masked from ‘package:base’:\n",
      "\n",
      "    intersect, setdiff, setequal, union\n",
      "\n"
     ]
    }
   ],
   "source": [
    "library(ChannelAttribution)\n",
    "library(dplyr)\n",
    "library(ggplot2)"
   ]
  },
  {
   "cell_type": "code",
   "execution_count": null,
   "metadata": {},
   "outputs": [],
   "source": [
    "# df2 <- read.csv('e-kwiaty-conversion_paths.csv')"
   ]
  },
  {
   "cell_type": "code",
   "execution_count": null,
   "metadata": {},
   "outputs": [],
   "source": [
    "set.seed(354)\n",
    "df3 <- data.frame(client_id = sample(c(1:1000), 5000, replace = TRUE),\n",
    "                  date = sample(c(1:32), 5000, replace = TRUE),\n",
    "                  channel = sample(c(0:9), 5000, replace = TRUE,\n",
    "                                   prob = c(0.1, 0.15, 0.05, 0.07, 0.11, 0.07, 0.13, 0.1, 0.06, 0.16)))\n",
    "df3$date <- as.Date(df3$date, origin = \"2015-01-01\")\n",
    "df3$channel <- paste0('channel_', df3$channel)\n",
    " \n",
    "# aggregating channels to the paths for each customer\n",
    "df3 <- df3 %>%\n",
    "        arrange(client_id, date) %>%\n",
    "        group_by(client_id) %>%\n",
    "        summarise(path = paste(channel, collapse = ' > '),\n",
    "                  # assume that all paths were finished with conversion\n",
    "                  conv = 1,\n",
    "                  conv_null = 0) %>%\n",
    "        ungroup()"
   ]
  },
  {
   "cell_type": "code",
   "execution_count": null,
   "metadata": {},
   "outputs": [],
   "source": [
    "# calculating the models (Markov and heuristics)\n",
    "mod2 <- markov_model(df3,\n",
    "                     var_path = 'path',\n",
    "                     var_conv = 'conv',\n",
    "                     var_null = 'conv_null',\n",
    "                     out_more = TRUE)\n",
    " \n",
    "# heuristic_models() function doesn't work for me, therefore I used the manual calculations\n",
    "# instead of:\n",
    "#h_mod2 <- heuristic_models(df2, var_path = 'path', var_conv = 'conv')\n",
    " \n",
    "df_hm <- df3 %>%\n",
    "        mutate(channel_name_ft = sub('>.*', '', path),\n",
    "               channel_name_ft = sub(' ', '', channel_name_ft),\n",
    "               channel_name_lt = sub('.*>', '', path),\n",
    "               channel_name_lt = sub(' ', '', channel_name_lt))\n",
    "# first-touch conversions\n",
    "df_ft <- df_hm %>%\n",
    "        group_by(channel_name_ft) %>%\n",
    "        summarise(first_touch_conversions = sum(conv)) %>%\n",
    "        ungroup()\n",
    "# last-touch conversions\n",
    "df_lt <- df_hm %>%\n",
    "        group_by(channel_name_lt) %>%\n",
    "        summarise(last_touch_conversions = sum(conv)) %>%\n",
    "        ungroup()\n",
    " \n",
    "h_mod2 <- merge(df_ft, df_lt, by.x = 'channel_name_ft', by.y = 'channel_name_lt')\n",
    " \n",
    "# merging all models\n",
    "all_models <- merge(h_mod2, mod2$result, by.x = 'channel_name_ft', by.y = 'channel_name')\n",
    "colnames(all_models)[c(1, 4)] <- c('channel_name', 'attrib_model_conversions')"
   ]
  },
  {
   "cell_type": "code",
   "execution_count": null,
   "metadata": {},
   "outputs": [],
   "source": [
    "############## visualizations ##############\n",
    "# transition matrix heatmap for \"real\" data\n",
    "df_plot_trans <- mod2$transition_matrix\n",
    " \n",
    "cols <- c(\"#e7f0fa\", \"#c9e2f6\", \"#95cbee\", \"#0099dc\", \"#4ab04a\", \"#ffd73e\", \"#eec73a\",\n",
    "          \"#e29421\", \"#e29421\", \"#f05336\", \"#ce472e\")\n",
    "t <- max(df_plot_trans$transition_probability)\n",
    " \n",
    "ggplot(df_plot_trans, aes(y = channel_from, x = channel_to, fill = transition_probability)) +\n",
    "        theme_minimal() +\n",
    "        geom_tile(colour = \"white\", width = .9, height = .9) +\n",
    "        scale_fill_gradientn(colours = cols, limits = c(0, t),\n",
    "                             breaks = seq(0, t, by = t/4),\n",
    "                             labels = c(\"0\", round(t/4*1, 2), round(t/4*2, 2), round(t/4*3, 2), round(t/4*4, 2)),\n",
    "                             guide = guide_colourbar(ticks = T, nbin = 50, barheight = .5, label = T, barwidth = 10)) +\n",
    "        geom_text(aes(label = round(transition_probability, 2)), fontface = \"bold\", size = 4) +\n",
    "        theme(legend.position = 'bottom',\n",
    "              legend.direction = \"horizontal\",\n",
    "              panel.grid.major = element_blank(),\n",
    "              panel.grid.minor = element_blank(),\n",
    "              plot.title = element_text(size = 20, face = \"bold\", vjust = 2, color = 'black', lineheight = 0.8),\n",
    "              axis.title.x = element_text(size = 24, face = \"bold\"),\n",
    "              axis.title.y = element_text(size = 24, face = \"bold\"),\n",
    "              axis.text.y = element_text(size = 8, face = \"bold\", color = 'black'),\n",
    "              axis.text.x = element_text(size = 8, angle = 90, hjust = 0.5, vjust = 0.5, face = \"plain\")) +\n",
    "        ggtitle(\"Transition matrix heatmap\")\n",
    " \n",
    "# models comparison\n",
    "all_mod_plot <- melt(all_models, id.vars = 'channel_name', variable.name = 'conv_type')\n",
    "all_mod_plot$value <- round(all_mod_plot$value)\n",
    "# slope chart\n",
    "pal <- colorRampPalette(brewer.pal(10, \"Set1\"))\n",
    "ggplot(all_mod_plot, aes(x = conv_type, y = value, group = channel_name)) +\n",
    "        theme_solarized(base_size = 18, base_family = \"\", light = TRUE) +\n",
    "        scale_color_manual(values = pal(10)) +\n",
    "        scale_fill_manual(values = pal(10)) +\n",
    "        geom_line(aes(color = channel_name), size = 2.5, alpha = 0.8) +\n",
    "        geom_point(aes(color = channel_name), size = 5) +\n",
    "        geom_label_repel(aes(label = paste0(channel_name, ': ', value), fill = factor(channel_name)),\n",
    "                         alpha = 0.7,\n",
    "                         fontface = 'bold', color = 'white', size = 5,\n",
    "                         box.padding = unit(0.25, 'lines'), point.padding = unit(0.5, 'lines'),\n",
    "                         max.iter = 100) +\n",
    "        theme(legend.position = 'none',\n",
    "              legend.title = element_text(size = 16, color = 'black'),\n",
    "              legend.text = element_text(size = 16, vjust = 2, color = 'black'),\n",
    "              plot.title = element_text(size = 20, face = \"bold\", vjust = 2, color = 'black', lineheight = 0.8),\n",
    "              axis.title.x = element_text(size = 24, face = \"bold\"),\n",
    "              axis.title.y = element_text(size = 16, face = \"bold\"),\n",
    "              axis.text.x = element_text(size = 16, face = \"bold\", color = 'black'),\n",
    "              axis.text.y = element_blank(),\n",
    "              axis.ticks.x = element_blank(),\n",
    "              axis.ticks.y = element_blank(),\n",
    "              panel.border = element_blank(),\n",
    "              panel.grid.major = element_line(colour = \"grey\", linetype = \"dotted\"),\n",
    "              panel.grid.minor = element_blank(),\n",
    "              strip.text = element_text(size = 16, hjust = 0.5, vjust = 0.5, face = \"bold\", color = 'black'),\n",
    "              strip.background = element_rect(fill = \"#f0b35f\")) +\n",
    "        labs(x = 'Model', y = 'Conversions') +\n",
    "        ggtitle('Models comparison') +\n",
    "        guides(colour = guide_legend(override.aes = list(size = 4)))"
   ]
  },
  {
   "cell_type": "code",
   "execution_count": null,
   "metadata": {},
   "outputs": [],
   "source": []
  }
 ],
 "metadata": {
  "kernelspec": {
   "display_name": "R",
   "language": "R",
   "name": "ir"
  },
  "language_info": {
   "codemirror_mode": "r",
   "file_extension": ".r",
   "mimetype": "text/x-r-source",
   "name": "R",
   "pygments_lexer": "r",
   "version": "3.4.4"
  }
 },
 "nbformat": 4,
 "nbformat_minor": 2
}
